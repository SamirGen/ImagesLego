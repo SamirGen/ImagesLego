{
  "nbformat": 4,
  "nbformat_minor": 0,
  "metadata": {
    "colab": {
      "provenance": [],
      "authorship_tag": "ABX9TyNzCs3MVMqdc3wPEL6FbK/+",
      "include_colab_link": true
    },
    "kernelspec": {
      "name": "python3",
      "display_name": "Python 3"
    },
    "language_info": {
      "name": "python"
    },
    "accelerator": "GPU",
    "gpuClass": "standard"
  },
  "cells": [
    {
      "cell_type": "markdown",
      "metadata": {
        "id": "view-in-github",
        "colab_type": "text"
      },
      "source": [
        "<a href=\"https://colab.research.google.com/github/SamirGen/ProjetPAVA-IA/blob/main/LegoRound3.ipynb\" target=\"_parent\"><img src=\"https://colab.research.google.com/assets/colab-badge.svg\" alt=\"Open In Colab\"/></a>"
      ]
    },
    {
      "cell_type": "code",
      "execution_count": 1,
      "metadata": {
        "colab": {
          "base_uri": "https://localhost:8080/"
        },
        "id": "s0d0EUZ1ft7b",
        "outputId": "4fa0e057-27da-42bd-8c4c-4f6a3c661d82"
      },
      "outputs": [
        {
          "output_type": "stream",
          "name": "stdout",
          "text": [
            "Reading package lists... Done\n",
            "Building dependency tree       \n",
            "Reading state information... Done\n",
            "The following NEW packages will be installed:\n",
            "  libportaudio2\n",
            "0 upgraded, 1 newly installed, 0 to remove and 24 not upgraded.\n",
            "Need to get 65.4 kB of archives.\n",
            "After this operation, 223 kB of additional disk space will be used.\n",
            "Get:1 http://archive.ubuntu.com/ubuntu focal/universe amd64 libportaudio2 amd64 19.6.0-1build1 [65.4 kB]\n",
            "Fetched 65.4 kB in 1s (68.5 kB/s)\n",
            "debconf: unable to initialize frontend: Dialog\n",
            "debconf: (No usable dialog-like program is installed, so the dialog based frontend cannot be used. at /usr/share/perl5/Debconf/FrontEnd/Dialog.pm line 76, <> line 1.)\n",
            "debconf: falling back to frontend: Readline\n",
            "debconf: unable to initialize frontend: Readline\n",
            "debconf: (This frontend requires a controlling tty.)\n",
            "debconf: falling back to frontend: Teletype\n",
            "dpkg-preconfigure: unable to re-open stdin: \n",
            "Selecting previously unselected package libportaudio2:amd64.\n",
            "(Reading database ... 122349 files and directories currently installed.)\n",
            "Preparing to unpack .../libportaudio2_19.6.0-1build1_amd64.deb ...\n",
            "Unpacking libportaudio2:amd64 (19.6.0-1build1) ...\n",
            "Setting up libportaudio2:amd64 (19.6.0-1build1) ...\n",
            "Processing triggers for libc-bin (2.31-0ubuntu9.9) ...\n",
            "\u001b[2K     \u001b[90m━━━━━━━━━━━━━━━━━━━━━━━━━━━━━━━━━━━━━━\u001b[0m \u001b[32m577.3/577.3 kB\u001b[0m \u001b[31m38.0 MB/s\u001b[0m eta \u001b[36m0:00:00\u001b[0m\n",
            "\u001b[2K     \u001b[90m━━━━━━━━━━━━━━━━━━━━━━━━━━━━━━━━━━━━━━\u001b[0m \u001b[32m840.9/840.9 kB\u001b[0m \u001b[31m62.3 MB/s\u001b[0m eta \u001b[36m0:00:00\u001b[0m\n",
            "\u001b[2K     \u001b[90m━━━━━━━━━━━━━━━━━━━━━━━━━━━━━━━━━━━━━━\u001b[0m \u001b[32m128.0/128.0 kB\u001b[0m \u001b[31m19.2 MB/s\u001b[0m eta \u001b[36m0:00:00\u001b[0m\n",
            "\u001b[2K     \u001b[90m━━━━━━━━━━━━━━━━━━━━━━━━━━━━━━━━━━━━━━\u001b[0m \u001b[32m108.8/108.8 kB\u001b[0m \u001b[31m16.7 MB/s\u001b[0m eta \u001b[36m0:00:00\u001b[0m\n",
            "\u001b[2K     \u001b[90m━━━━━━━━━━━━━━━━━━━━━━━━━━━━━━━━━━━━━━━━\u001b[0m \u001b[32m88.3/88.3 kB\u001b[0m \u001b[31m13.3 MB/s\u001b[0m eta \u001b[36m0:00:00\u001b[0m\n",
            "\u001b[?25h  Preparing metadata (setup.py) ... \u001b[?25l\u001b[?25hdone\n",
            "\u001b[2K     \u001b[90m━━━━━━━━━━━━━━━━━━━━━━━━━━━━━━━━━━━━━━━━\u001b[0m \u001b[32m10.9/10.9 MB\u001b[0m \u001b[31m91.9 MB/s\u001b[0m eta \u001b[36m0:00:00\u001b[0m\n",
            "\u001b[2K     \u001b[90m━━━━━━━━━━━━━━━━━━━━━━━━━━━━━━━━━━━━━━━━\u001b[0m \u001b[32m60.9/60.9 MB\u001b[0m \u001b[31m13.1 MB/s\u001b[0m eta \u001b[36m0:00:00\u001b[0m\n",
            "\u001b[2K     \u001b[90m━━━━━━━━━━━━━━━━━━━━━━━━━━━━━━━━━━━━━━\u001b[0m \u001b[32m240.6/240.6 kB\u001b[0m \u001b[31m30.4 MB/s\u001b[0m eta \u001b[36m0:00:00\u001b[0m\n",
            "\u001b[2K     \u001b[90m━━━━━━━━━━━━━━━━━━━━━━━━━━━━━━━━━━━━━━━\u001b[0m \u001b[32m10.3/10.3 MB\u001b[0m \u001b[31m109.5 MB/s\u001b[0m eta \u001b[36m0:00:00\u001b[0m\n",
            "\u001b[2K     \u001b[90m━━━━━━━━━━━━━━━━━━━━━━━━━━━━━━━━━━━━━━━━\u001b[0m \u001b[32m3.4/3.4 MB\u001b[0m \u001b[31m85.2 MB/s\u001b[0m eta \u001b[36m0:00:00\u001b[0m\n",
            "\u001b[2K     \u001b[90m━━━━━━━━━━━━━━━━━━━━━━━━━━━━━━━━━━━━━━━━\u001b[0m \u001b[32m1.3/1.3 MB\u001b[0m \u001b[31m67.1 MB/s\u001b[0m eta \u001b[36m0:00:00\u001b[0m\n",
            "\u001b[2K     \u001b[90m━━━━━━━━━━━━━━━━━━━━━━━━━━━━━━━━━━━━━━━━\u001b[0m \u001b[32m77.5/77.5 kB\u001b[0m \u001b[31m9.7 MB/s\u001b[0m eta \u001b[36m0:00:00\u001b[0m\n",
            "\u001b[2K     \u001b[90m━━━━━━━━━━━━━━━━━━━━━━━━━━━━━━━━━━━━━━\u001b[0m \u001b[32m203.8/203.8 kB\u001b[0m \u001b[31m21.5 MB/s\u001b[0m eta \u001b[36m0:00:00\u001b[0m\n",
            "\u001b[2K     \u001b[90m━━━━━━━━━━━━━━━━━━━━━━━━━━━━━━━━━━━━━━\u001b[0m \u001b[32m128.6/128.6 kB\u001b[0m \u001b[31m18.2 MB/s\u001b[0m eta \u001b[36m0:00:00\u001b[0m\n",
            "\u001b[2K     \u001b[90m━━━━━━━━━━━━━━━━━━━━━━━━━━━━━━━━━━━━━━\u001b[0m \u001b[32m591.0/591.0 kB\u001b[0m \u001b[31m61.4 MB/s\u001b[0m eta \u001b[36m0:00:00\u001b[0m\n",
            "\u001b[2K     \u001b[90m━━━━━━━━━━━━━━━━━━━━━━━━━━━━━━━━━━━━━━\u001b[0m \u001b[32m222.3/222.3 kB\u001b[0m \u001b[31m31.9 MB/s\u001b[0m eta \u001b[36m0:00:00\u001b[0m\n",
            "\u001b[2K     \u001b[90m━━━━━━━━━━━━━━━━━━━━━━━━━━━━━━━━━━━━━━━━\u001b[0m \u001b[32m25.3/25.3 MB\u001b[0m \u001b[31m55.0 MB/s\u001b[0m eta \u001b[36m0:00:00\u001b[0m\n",
            "\u001b[2K     \u001b[90m━━━━━━━━━━━━━━━━━━━━━━━━━━━━━━━━━━━━━━━━\u001b[0m \u001b[32m40.9/40.9 kB\u001b[0m \u001b[31m4.8 MB/s\u001b[0m eta \u001b[36m0:00:00\u001b[0m\n",
            "\u001b[2K     \u001b[90m━━━━━━━━━━━━━━━━━━━━━━━━━━━━━━━━━━━━━━━━\u001b[0m \u001b[32m3.1/3.1 MB\u001b[0m \u001b[31m110.8 MB/s\u001b[0m eta \u001b[36m0:00:00\u001b[0m\n",
            "\u001b[?25h  Building wheel for fire (setup.py) ... \u001b[?25l\u001b[?25hdone\n",
            "\u001b[31mERROR: pip's legacy dependency resolver does not consider dependency conflicts when selecting packages. This behaviour is the source of the following dependency conflicts.\n",
            "xarray 2022.12.0 requires packaging>=21.3, but you'll have packaging 20.9 which is incompatible.\n",
            "statsmodels 0.13.5 requires packaging>=21.3, but you'll have packaging 20.9 which is incompatible.\n",
            "plotnine 0.10.1 requires matplotlib>=3.5.0, but you'll have matplotlib 3.4.3 which is incompatible.\n",
            "mizani 0.8.1 requires matplotlib>=3.5.0, but you'll have matplotlib 3.4.3 which is incompatible.\n",
            "tensorflow-model-optimization 0.7.4 requires numpy~=1.23, but you'll have numpy 1.22.4 which is incompatible.\n",
            "scann 1.2.6 requires tensorflow~=2.8.0, but you'll have tensorflow 2.12.0 which is incompatible.\u001b[0m\u001b[31m\n",
            "\u001b[0m\u001b[31mERROR: Could not find a version that satisfies the requirement opencv-python-headless==4.1.2.30 (from versions: 3.4.10.37, 3.4.11.39, 3.4.11.41, 3.4.11.43, 3.4.11.45, 3.4.13.47, 3.4.14.51, 3.4.14.53, 3.4.15.55, 3.4.16.59, 3.4.17.61, 3.4.17.63, 3.4.18.65, 4.3.0.38, 4.4.0.40, 4.4.0.42, 4.4.0.44, 4.4.0.46, 4.5.1.48, 4.5.2.52, 4.5.2.54, 4.5.3.56, 4.5.4.58, 4.5.4.60, 4.5.5.62, 4.5.5.64, 4.6.0.66, 4.7.0.68, 4.7.0.72)\u001b[0m\u001b[31m\n",
            "\u001b[0m\u001b[31mERROR: No matching distribution found for opencv-python-headless==4.1.2.30\u001b[0m\u001b[31m\n",
            "\u001b[0mFound existing installation: tensorflow 2.12.0\n",
            "Uninstalling tensorflow-2.12.0:\n",
            "  Successfully uninstalled tensorflow-2.12.0\n",
            "\u001b[2K     \u001b[90m━━━━━━━━━━━━━━━━━━━━━━━━━━━━━━━━━━━━━━━\u001b[0m \u001b[32m497.6/497.6 MB\u001b[0m \u001b[31m3.1 MB/s\u001b[0m eta \u001b[36m0:00:00\u001b[0m\n",
            "\u001b[2K     \u001b[90m━━━━━━━━━━━━━━━━━━━━━━━━━━━━━━━━━━━━━━\u001b[0m \u001b[32m462.5/462.5 kB\u001b[0m \u001b[31m54.0 MB/s\u001b[0m eta \u001b[36m0:00:00\u001b[0m\n",
            "\u001b[2K     \u001b[90m━━━━━━━━━━━━━━━━━━━━━━━━━━━━━━━━━━━━━━━━\u001b[0m \u001b[32m1.4/1.4 MB\u001b[0m \u001b[31m54.4 MB/s\u001b[0m eta \u001b[36m0:00:00\u001b[0m\n",
            "\u001b[2K     \u001b[90m━━━━━━━━━━━━━━━━━━━━━━━━━━━━━━━━━━━━━━━━\u001b[0m \u001b[32m42.6/42.6 kB\u001b[0m \u001b[31m5.7 MB/s\u001b[0m eta \u001b[36m0:00:00\u001b[0m\n",
            "\u001b[2K     \u001b[90m━━━━━━━━━━━━━━━━━━━━━━━━━━━━━━━━━━━━━━━━\u001b[0m \u001b[32m5.8/5.8 MB\u001b[0m \u001b[31m90.4 MB/s\u001b[0m eta \u001b[36m0:00:00\u001b[0m\n",
            "\u001b[2K     \u001b[90m━━━━━━━━━━━━━━━━━━━━━━━━━━━━━━━━━━━━━━━━\u001b[0m \u001b[32m4.9/4.9 MB\u001b[0m \u001b[31m99.5 MB/s\u001b[0m eta \u001b[36m0:00:00\u001b[0m\n",
            "\u001b[?25h"
          ]
        }
      ],
      "source": [
        "!sudo apt -y install libportaudio2\n",
        "!pip install -q --use-deprecated=legacy-resolver tflite-model-maker\n",
        "!pip install -q pycocotools\n",
        "!pip install -q opencv-python-headless==4.1.2.30\n",
        "!pip uninstall -y tensorflow && pip install -q tensorflow==2.8.0"
      ]
    },
    {
      "cell_type": "code",
      "source": [
        "import os\n",
        "import numpy as np\n",
        "import tensorflow as tf\n",
        "\n",
        "from tflite_model_maker.config import ExportFormat\n",
        "from tflite_model_maker import model_spec\n",
        "from tflite_model_maker import object_detector"
      ],
      "metadata": {
        "colab": {
          "base_uri": "https://localhost:8080/"
        },
        "id": "ppEDCoj9jrUy",
        "outputId": "58239ac1-56f9-4a07-e15a-727b56cb3731"
      },
      "execution_count": 2,
      "outputs": [
        {
          "output_type": "stream",
          "name": "stderr",
          "text": [
            "/usr/local/lib/python3.9/dist-packages/tensorflow_addons/utils/tfa_eol_msg.py:23: UserWarning: \n",
            "\n",
            "TensorFlow Addons (TFA) has ended development and introduction of new features.\n",
            "TFA has entered a minimal maintenance and release mode until a planned end of life in May 2024.\n",
            "Please modify downstream libraries to take dependencies from other repositories in our TensorFlow community (e.g. Keras, Keras-CV, and Keras-NLP). \n",
            "\n",
            "For more information see: https://github.com/tensorflow/addons/issues/2807 \n",
            "\n",
            "  warnings.warn(\n",
            "/usr/local/lib/python3.9/dist-packages/tensorflow_addons/utils/ensure_tf_install.py:53: UserWarning: Tensorflow Addons supports using Python ops for all Tensorflow versions above or equal to 2.10.0 and strictly below 2.13.0 (nightly versions are not supported). \n",
            " The versions of TensorFlow you are currently using is 2.8.0 and is not supported. \n",
            "Some things might work, some things might not.\n",
            "If you were to encounter a bug, do not file an issue.\n",
            "If you want to make sure you're using a tested and supported configuration, either change the TensorFlow version or the TensorFlow Addons's version. \n",
            "You can find the compatibility matrix in TensorFlow Addon's readme:\n",
            "https://github.com/tensorflow/addons\n",
            "  warnings.warn(\n"
          ]
        }
      ]
    },
    {
      "cell_type": "code",
      "source": [
        "spec = model_spec.get('efficientdet_lite0')"
      ],
      "metadata": {
        "id": "pQ97EwpalajH"
      },
      "execution_count": 12,
      "outputs": []
    },
    {
      "cell_type": "code",
      "source": [
        "# split data into training and testing set\n",
        "import os, random, shutil\n",
        "\n",
        "os.mkdir('/Pava-detection/train')\n",
        "os.mkdir('/Pava-detection/test')\n",
        "\n",
        "image_paths = os.listdir('/images')\n",
        "annotations_paths = os.listdir('/annotations')\n",
        "random.shuffle(image_paths)\n",
        "\n",
        "for i, image_path in enumerate(image_paths):\n",
        "  if image_path.endswith(\"checkpoints\")==False:\n",
        "    if i < int(len(image_paths) * 0.8):\n",
        "      shutil.copy(f'/images/{image_path}', '/Pava-detection/train/')\n",
        "      shutil.copy(f'/annotations/{image_path.replace(\"jpeg\", \"xml\")}', '/Pava-detection/train/')\n",
        "    else:\n",
        "      shutil.copy(f'/images/{image_path}', '/Pava-detection/test/')\n",
        "      shutil.copy(f'/annotations/{image_path.replace(\"jpeg\", \"xml\")}', '/Pava-detection/test/')"
      ],
      "metadata": {
        "id": "bdxGPyv1A1J5"
      },
      "execution_count": 13,
      "outputs": []
    },
    {
      "cell_type": "code",
      "source": [
        "train_data=object_detector.DataLoader.from_pascal_voc(\"/images\",\"/annotations\",label_map={1: \"ConstructionLego\", 2: \"ConstructionLego2\", 3: \"ConstructionLego3\"})\n",
        "test_data=object_detector.DataLoader.from_pascal_voc(\"/images\",\"/annotations\",label_map={1: \"ConstructionLego\", 2: \"ConstructionLego2\", 3: \"ConstructionLego3\"})"
      ],
      "metadata": {
        "id": "SSlMif7KDRTE"
      },
      "execution_count": 14,
      "outputs": []
    },
    {
      "cell_type": "code",
      "source": [
        "model = object_detector.create(train_data, model_spec=spec, epochs=50, batch_size=16, train_whole_model=True, validation_data=test_data)"
      ],
      "metadata": {
        "colab": {
          "base_uri": "https://localhost:8080/"
        },
        "id": "ddi1RG-Ilx0Z",
        "outputId": "5c898b56-848f-4121-ff78-3d1e78e33ef6"
      },
      "execution_count": 15,
      "outputs": [
        {
          "output_type": "stream",
          "name": "stdout",
          "text": [
            "Epoch 1/50\n",
            "16/16 [==============================] - 277s 14s/step - det_loss: 1.7341 - cls_loss: 1.1250 - box_loss: 0.0122 - reg_l2_loss: 0.0632 - loss: 1.7973 - learning_rate: 0.0140 - gradient_norm: 1.1543 - val_det_loss: 1.5762 - val_cls_loss: 1.0278 - val_box_loss: 0.0110 - val_reg_l2_loss: 0.0632 - val_loss: 1.6393\n",
            "Epoch 2/50\n",
            "16/16 [==============================] - 197s 13s/step - det_loss: 1.4552 - cls_loss: 0.9031 - box_loss: 0.0110 - reg_l2_loss: 0.0632 - loss: 1.5184 - learning_rate: 0.0200 - gradient_norm: 1.6466 - val_det_loss: 1.3609 - val_cls_loss: 0.8461 - val_box_loss: 0.0103 - val_reg_l2_loss: 0.0632 - val_loss: 1.4241\n",
            "Epoch 3/50\n",
            "16/16 [==============================] - 193s 13s/step - det_loss: 1.1660 - cls_loss: 0.6616 - box_loss: 0.0101 - reg_l2_loss: 0.0632 - loss: 1.2292 - learning_rate: 0.0199 - gradient_norm: 1.6232 - val_det_loss: 1.4160 - val_cls_loss: 0.9429 - val_box_loss: 0.0095 - val_reg_l2_loss: 0.0632 - val_loss: 1.4792\n",
            "Epoch 4/50\n",
            "16/16 [==============================] - 195s 13s/step - det_loss: 1.0116 - cls_loss: 0.5663 - box_loss: 0.0089 - reg_l2_loss: 0.0632 - loss: 1.0749 - learning_rate: 0.0197 - gradient_norm: 1.6678 - val_det_loss: 1.2521 - val_cls_loss: 0.7727 - val_box_loss: 0.0096 - val_reg_l2_loss: 0.0632 - val_loss: 1.3154\n",
            "Epoch 5/50\n",
            "16/16 [==============================] - 340s 23s/step - det_loss: 0.8984 - cls_loss: 0.4848 - box_loss: 0.0083 - reg_l2_loss: 0.0633 - loss: 0.9617 - learning_rate: 0.0196 - gradient_norm: 1.6956 - val_det_loss: 1.1633 - val_cls_loss: 0.6899 - val_box_loss: 0.0095 - val_reg_l2_loss: 0.0633 - val_loss: 1.2265\n",
            "Epoch 6/50\n",
            "16/16 [==============================] - 194s 13s/step - det_loss: 0.8815 - cls_loss: 0.4778 - box_loss: 0.0081 - reg_l2_loss: 0.0633 - loss: 0.9447 - learning_rate: 0.0194 - gradient_norm: 2.5054 - val_det_loss: 1.1581 - val_cls_loss: 0.7002 - val_box_loss: 0.0092 - val_reg_l2_loss: 0.0633 - val_loss: 1.2214\n",
            "Epoch 7/50\n",
            "16/16 [==============================] - 192s 13s/step - det_loss: 0.8248 - cls_loss: 0.4572 - box_loss: 0.0074 - reg_l2_loss: 0.0633 - loss: 0.8881 - learning_rate: 0.0191 - gradient_norm: 2.2433 - val_det_loss: 1.4435 - val_cls_loss: 1.0849 - val_box_loss: 0.0072 - val_reg_l2_loss: 0.0634 - val_loss: 1.5069\n",
            "Epoch 8/50\n",
            "16/16 [==============================] - 196s 13s/step - det_loss: 0.7523 - cls_loss: 0.4203 - box_loss: 0.0066 - reg_l2_loss: 0.0634 - loss: 0.8157 - learning_rate: 0.0189 - gradient_norm: 1.8463 - val_det_loss: 0.9503 - val_cls_loss: 0.5545 - val_box_loss: 0.0079 - val_reg_l2_loss: 0.0634 - val_loss: 1.0137\n",
            "Epoch 9/50\n",
            "16/16 [==============================] - 194s 13s/step - det_loss: 0.7335 - cls_loss: 0.4134 - box_loss: 0.0064 - reg_l2_loss: 0.0634 - loss: 0.7969 - learning_rate: 0.0186 - gradient_norm: 2.2997 - val_det_loss: 1.6601 - val_cls_loss: 1.0970 - val_box_loss: 0.0113 - val_reg_l2_loss: 0.0635 - val_loss: 1.7235\n",
            "Epoch 10/50\n",
            "16/16 [==============================] - 292s 19s/step - det_loss: 0.7134 - cls_loss: 0.4003 - box_loss: 0.0063 - reg_l2_loss: 0.0635 - loss: 0.7769 - learning_rate: 0.0182 - gradient_norm: 2.0045 - val_det_loss: 0.9589 - val_cls_loss: 0.5820 - val_box_loss: 0.0075 - val_reg_l2_loss: 0.0635 - val_loss: 1.0224\n",
            "Epoch 11/50\n",
            "16/16 [==============================] - 196s 13s/step - det_loss: 0.6649 - cls_loss: 0.3747 - box_loss: 0.0058 - reg_l2_loss: 0.0635 - loss: 0.7284 - learning_rate: 0.0178 - gradient_norm: 1.9085 - val_det_loss: 0.9677 - val_cls_loss: 0.6468 - val_box_loss: 0.0064 - val_reg_l2_loss: 0.0635 - val_loss: 1.0312\n",
            "Epoch 12/50\n",
            "16/16 [==============================] - 194s 13s/step - det_loss: 0.6622 - cls_loss: 0.3759 - box_loss: 0.0057 - reg_l2_loss: 0.0635 - loss: 0.7257 - learning_rate: 0.0174 - gradient_norm: 1.9451 - val_det_loss: 0.8206 - val_cls_loss: 0.5083 - val_box_loss: 0.0062 - val_reg_l2_loss: 0.0635 - val_loss: 0.8841\n",
            "Epoch 13/50\n",
            "16/16 [==============================] - 192s 13s/step - det_loss: 0.6447 - cls_loss: 0.3679 - box_loss: 0.0055 - reg_l2_loss: 0.0635 - loss: 0.7083 - learning_rate: 0.0170 - gradient_norm: 2.0785 - val_det_loss: 1.1273 - val_cls_loss: 0.8612 - val_box_loss: 0.0053 - val_reg_l2_loss: 0.0636 - val_loss: 1.1909\n",
            "Epoch 14/50\n",
            "16/16 [==============================] - 195s 13s/step - det_loss: 0.6183 - cls_loss: 0.3467 - box_loss: 0.0054 - reg_l2_loss: 0.0636 - loss: 0.6818 - learning_rate: 0.0165 - gradient_norm: 1.9524 - val_det_loss: 0.9237 - val_cls_loss: 0.6942 - val_box_loss: 0.0046 - val_reg_l2_loss: 0.0636 - val_loss: 0.9873\n",
            "Epoch 15/50\n",
            "16/16 [==============================] - 286s 19s/step - det_loss: 0.6126 - cls_loss: 0.3523 - box_loss: 0.0052 - reg_l2_loss: 0.0636 - loss: 0.6762 - learning_rate: 0.0160 - gradient_norm: 2.0617 - val_det_loss: 0.8293 - val_cls_loss: 0.5913 - val_box_loss: 0.0048 - val_reg_l2_loss: 0.0636 - val_loss: 0.8929\n",
            "Epoch 16/50\n",
            "16/16 [==============================] - 196s 13s/step - det_loss: 0.6022 - cls_loss: 0.3413 - box_loss: 0.0052 - reg_l2_loss: 0.0636 - loss: 0.6658 - learning_rate: 0.0155 - gradient_norm: 1.8846 - val_det_loss: 0.6157 - val_cls_loss: 0.3976 - val_box_loss: 0.0044 - val_reg_l2_loss: 0.0636 - val_loss: 0.6793\n",
            "Epoch 17/50\n",
            "16/16 [==============================] - 206s 14s/step - det_loss: 0.6012 - cls_loss: 0.3394 - box_loss: 0.0052 - reg_l2_loss: 0.0636 - loss: 0.6648 - learning_rate: 0.0149 - gradient_norm: 2.0087 - val_det_loss: 0.5593 - val_cls_loss: 0.3332 - val_box_loss: 0.0045 - val_reg_l2_loss: 0.0636 - val_loss: 0.6229\n",
            "Epoch 18/50\n",
            "16/16 [==============================] - 196s 13s/step - det_loss: 0.5831 - cls_loss: 0.3269 - box_loss: 0.0051 - reg_l2_loss: 0.0636 - loss: 0.6467 - learning_rate: 0.0143 - gradient_norm: 1.9266 - val_det_loss: 0.5227 - val_cls_loss: 0.3206 - val_box_loss: 0.0040 - val_reg_l2_loss: 0.0636 - val_loss: 0.5863\n",
            "Epoch 19/50\n",
            "16/16 [==============================] - 194s 13s/step - det_loss: 0.5392 - cls_loss: 0.3151 - box_loss: 0.0045 - reg_l2_loss: 0.0636 - loss: 0.6028 - learning_rate: 0.0138 - gradient_norm: 2.0691 - val_det_loss: 0.6566 - val_cls_loss: 0.4224 - val_box_loss: 0.0047 - val_reg_l2_loss: 0.0636 - val_loss: 0.7203\n",
            "Epoch 20/50\n",
            "16/16 [==============================] - 288s 19s/step - det_loss: 0.5490 - cls_loss: 0.3216 - box_loss: 0.0045 - reg_l2_loss: 0.0637 - loss: 0.6127 - learning_rate: 0.0132 - gradient_norm: 2.3708 - val_det_loss: 0.6258 - val_cls_loss: 0.4100 - val_box_loss: 0.0043 - val_reg_l2_loss: 0.0637 - val_loss: 0.6895\n",
            "Epoch 21/50\n",
            "16/16 [==============================] - 197s 13s/step - det_loss: 0.5302 - cls_loss: 0.3094 - box_loss: 0.0044 - reg_l2_loss: 0.0637 - loss: 0.5939 - learning_rate: 0.0125 - gradient_norm: 2.0062 - val_det_loss: 0.5940 - val_cls_loss: 0.3739 - val_box_loss: 0.0044 - val_reg_l2_loss: 0.0637 - val_loss: 0.6577\n",
            "Epoch 22/50\n",
            "16/16 [==============================] - 195s 13s/step - det_loss: 0.5194 - cls_loss: 0.3017 - box_loss: 0.0044 - reg_l2_loss: 0.0637 - loss: 0.5830 - learning_rate: 0.0119 - gradient_norm: 2.1404 - val_det_loss: 0.6189 - val_cls_loss: 0.3873 - val_box_loss: 0.0046 - val_reg_l2_loss: 0.0637 - val_loss: 0.6826\n",
            "Epoch 23/50\n",
            "16/16 [==============================] - 193s 13s/step - det_loss: 0.4831 - cls_loss: 0.2822 - box_loss: 0.0040 - reg_l2_loss: 0.0637 - loss: 0.5468 - learning_rate: 0.0113 - gradient_norm: 2.0639 - val_det_loss: 0.4691 - val_cls_loss: 0.2841 - val_box_loss: 0.0037 - val_reg_l2_loss: 0.0637 - val_loss: 0.5328\n",
            "Epoch 24/50\n",
            "16/16 [==============================] - 201s 13s/step - det_loss: 0.5074 - cls_loss: 0.2944 - box_loss: 0.0043 - reg_l2_loss: 0.0637 - loss: 0.5711 - learning_rate: 0.0106 - gradient_norm: 2.6627 - val_det_loss: 0.4972 - val_cls_loss: 0.3120 - val_box_loss: 0.0037 - val_reg_l2_loss: 0.0637 - val_loss: 0.5609\n",
            "Epoch 25/50\n",
            "16/16 [==============================] - 289s 19s/step - det_loss: 0.5180 - cls_loss: 0.2964 - box_loss: 0.0044 - reg_l2_loss: 0.0637 - loss: 0.5817 - learning_rate: 0.0100 - gradient_norm: 2.4010 - val_det_loss: 0.5698 - val_cls_loss: 0.3489 - val_box_loss: 0.0044 - val_reg_l2_loss: 0.0637 - val_loss: 0.6335\n",
            "Epoch 26/50\n",
            "16/16 [==============================] - 198s 13s/step - det_loss: 0.4977 - cls_loss: 0.2941 - box_loss: 0.0041 - reg_l2_loss: 0.0637 - loss: 0.5615 - learning_rate: 0.0094 - gradient_norm: 2.1763 - val_det_loss: 0.4510 - val_cls_loss: 0.2827 - val_box_loss: 0.0034 - val_reg_l2_loss: 0.0637 - val_loss: 0.5147\n",
            "Epoch 27/50\n",
            "16/16 [==============================] - 196s 13s/step - det_loss: 0.4921 - cls_loss: 0.2899 - box_loss: 0.0040 - reg_l2_loss: 0.0637 - loss: 0.5558 - learning_rate: 0.0087 - gradient_norm: 2.2702 - val_det_loss: 0.4655 - val_cls_loss: 0.2832 - val_box_loss: 0.0036 - val_reg_l2_loss: 0.0637 - val_loss: 0.5293\n",
            "Epoch 28/50\n",
            "16/16 [==============================] - 196s 13s/step - det_loss: 0.4953 - cls_loss: 0.2895 - box_loss: 0.0041 - reg_l2_loss: 0.0637 - loss: 0.5590 - learning_rate: 0.0081 - gradient_norm: 2.2587 - val_det_loss: 0.4388 - val_cls_loss: 0.2734 - val_box_loss: 0.0033 - val_reg_l2_loss: 0.0637 - val_loss: 0.5025\n",
            "Epoch 29/50\n",
            "16/16 [==============================] - 196s 13s/step - det_loss: 0.4538 - cls_loss: 0.2674 - box_loss: 0.0037 - reg_l2_loss: 0.0637 - loss: 0.5175 - learning_rate: 0.0075 - gradient_norm: 2.0858 - val_det_loss: 0.4601 - val_cls_loss: 0.2650 - val_box_loss: 0.0039 - val_reg_l2_loss: 0.0637 - val_loss: 0.5239\n",
            "Epoch 30/50\n",
            "16/16 [==============================] - 295s 20s/step - det_loss: 0.4660 - cls_loss: 0.2792 - box_loss: 0.0037 - reg_l2_loss: 0.0637 - loss: 0.5298 - learning_rate: 0.0069 - gradient_norm: 2.4536 - val_det_loss: 0.4285 - val_cls_loss: 0.2567 - val_box_loss: 0.0034 - val_reg_l2_loss: 0.0637 - val_loss: 0.4922\n",
            "Epoch 31/50\n",
            "16/16 [==============================] - 196s 13s/step - det_loss: 0.4441 - cls_loss: 0.2640 - box_loss: 0.0036 - reg_l2_loss: 0.0637 - loss: 0.5079 - learning_rate: 0.0063 - gradient_norm: 2.4852 - val_det_loss: 0.3825 - val_cls_loss: 0.2457 - val_box_loss: 0.0027 - val_reg_l2_loss: 0.0637 - val_loss: 0.4462\n",
            "Epoch 32/50\n",
            "16/16 [==============================] - 194s 13s/step - det_loss: 0.4642 - cls_loss: 0.2745 - box_loss: 0.0038 - reg_l2_loss: 0.0637 - loss: 0.5280 - learning_rate: 0.0057 - gradient_norm: 2.6790 - val_det_loss: 0.4341 - val_cls_loss: 0.2827 - val_box_loss: 0.0030 - val_reg_l2_loss: 0.0638 - val_loss: 0.4979\n",
            "Epoch 33/50\n",
            "16/16 [==============================] - 194s 13s/step - det_loss: 0.4412 - cls_loss: 0.2630 - box_loss: 0.0036 - reg_l2_loss: 0.0638 - loss: 0.5050 - learning_rate: 0.0051 - gradient_norm: 2.4113 - val_det_loss: 0.3903 - val_cls_loss: 0.2558 - val_box_loss: 0.0027 - val_reg_l2_loss: 0.0638 - val_loss: 0.4541\n",
            "Epoch 34/50\n",
            "16/16 [==============================] - 194s 13s/step - det_loss: 0.4243 - cls_loss: 0.2525 - box_loss: 0.0034 - reg_l2_loss: 0.0638 - loss: 0.4880 - learning_rate: 0.0045 - gradient_norm: 2.3881 - val_det_loss: 0.3819 - val_cls_loss: 0.2407 - val_box_loss: 0.0028 - val_reg_l2_loss: 0.0638 - val_loss: 0.4456\n",
            "Epoch 35/50\n",
            "16/16 [==============================] - 292s 19s/step - det_loss: 0.4254 - cls_loss: 0.2548 - box_loss: 0.0034 - reg_l2_loss: 0.0638 - loss: 0.4892 - learning_rate: 0.0040 - gradient_norm: 2.3601 - val_det_loss: 0.3669 - val_cls_loss: 0.2164 - val_box_loss: 0.0030 - val_reg_l2_loss: 0.0638 - val_loss: 0.4306\n",
            "Epoch 36/50\n",
            "16/16 [==============================] - 196s 13s/step - det_loss: 0.4266 - cls_loss: 0.2555 - box_loss: 0.0034 - reg_l2_loss: 0.0638 - loss: 0.4904 - learning_rate: 0.0035 - gradient_norm: 2.4030 - val_det_loss: 0.3369 - val_cls_loss: 0.2143 - val_box_loss: 0.0025 - val_reg_l2_loss: 0.0638 - val_loss: 0.4007\n",
            "Epoch 37/50\n",
            "16/16 [==============================] - 195s 13s/step - det_loss: 0.4369 - cls_loss: 0.2650 - box_loss: 0.0034 - reg_l2_loss: 0.0638 - loss: 0.5007 - learning_rate: 0.0030 - gradient_norm: 2.5358 - val_det_loss: 0.3430 - val_cls_loss: 0.2269 - val_box_loss: 0.0023 - val_reg_l2_loss: 0.0638 - val_loss: 0.4068\n",
            "Epoch 38/50\n",
            "16/16 [==============================] - 201s 13s/step - det_loss: 0.4012 - cls_loss: 0.2436 - box_loss: 0.0032 - reg_l2_loss: 0.0638 - loss: 0.4650 - learning_rate: 0.0026 - gradient_norm: 2.1716 - val_det_loss: 0.3703 - val_cls_loss: 0.2357 - val_box_loss: 0.0027 - val_reg_l2_loss: 0.0638 - val_loss: 0.4340\n",
            "Epoch 39/50\n",
            "16/16 [==============================] - 191s 13s/step - det_loss: 0.4015 - cls_loss: 0.2415 - box_loss: 0.0032 - reg_l2_loss: 0.0638 - loss: 0.4653 - learning_rate: 0.0022 - gradient_norm: 2.3580 - val_det_loss: 0.3380 - val_cls_loss: 0.2159 - val_box_loss: 0.0024 - val_reg_l2_loss: 0.0638 - val_loss: 0.4018\n",
            "Epoch 40/50\n",
            "16/16 [==============================] - 294s 20s/step - det_loss: 0.3895 - cls_loss: 0.2435 - box_loss: 0.0029 - reg_l2_loss: 0.0638 - loss: 0.4533 - learning_rate: 0.0018 - gradient_norm: 2.1967 - val_det_loss: 0.3265 - val_cls_loss: 0.2149 - val_box_loss: 0.0022 - val_reg_l2_loss: 0.0638 - val_loss: 0.3903\n",
            "Epoch 41/50\n",
            "16/16 [==============================] - 194s 13s/step - det_loss: 0.3848 - cls_loss: 0.2396 - box_loss: 0.0029 - reg_l2_loss: 0.0638 - loss: 0.4485 - learning_rate: 0.0015 - gradient_norm: 2.2359 - val_det_loss: 0.3268 - val_cls_loss: 0.2070 - val_box_loss: 0.0024 - val_reg_l2_loss: 0.0638 - val_loss: 0.3905\n",
            "Epoch 42/50\n",
            "16/16 [==============================] - 197s 13s/step - det_loss: 0.3919 - cls_loss: 0.2406 - box_loss: 0.0030 - reg_l2_loss: 0.0638 - loss: 0.4557 - learning_rate: 0.0011 - gradient_norm: 2.4006 - val_det_loss: 0.3115 - val_cls_loss: 0.2016 - val_box_loss: 0.0022 - val_reg_l2_loss: 0.0638 - val_loss: 0.3753\n",
            "Epoch 43/50\n",
            "16/16 [==============================] - 198s 13s/step - det_loss: 0.3826 - cls_loss: 0.2379 - box_loss: 0.0029 - reg_l2_loss: 0.0638 - loss: 0.4463 - learning_rate: 8.5852e-04 - gradient_norm: 2.3000 - val_det_loss: 0.3195 - val_cls_loss: 0.2067 - val_box_loss: 0.0023 - val_reg_l2_loss: 0.0638 - val_loss: 0.3832\n",
            "Epoch 44/50\n",
            "16/16 [==============================] - 192s 13s/step - det_loss: 0.3783 - cls_loss: 0.2344 - box_loss: 0.0029 - reg_l2_loss: 0.0638 - loss: 0.4421 - learning_rate: 6.1787e-04 - gradient_norm: 2.2657 - val_det_loss: 0.3108 - val_cls_loss: 0.2037 - val_box_loss: 0.0021 - val_reg_l2_loss: 0.0638 - val_loss: 0.3746\n",
            "Epoch 45/50\n",
            "16/16 [==============================] - 296s 20s/step - det_loss: 0.3618 - cls_loss: 0.2251 - box_loss: 0.0027 - reg_l2_loss: 0.0638 - loss: 0.4255 - learning_rate: 4.1577e-04 - gradient_norm: 2.1642 - val_det_loss: 0.3020 - val_cls_loss: 0.1987 - val_box_loss: 0.0021 - val_reg_l2_loss: 0.0638 - val_loss: 0.3658\n",
            "Epoch 46/50\n",
            "16/16 [==============================] - 195s 13s/step - det_loss: 0.3821 - cls_loss: 0.2390 - box_loss: 0.0029 - reg_l2_loss: 0.0638 - loss: 0.4459 - learning_rate: 2.5305e-04 - gradient_norm: 2.2241 - val_det_loss: 0.3004 - val_cls_loss: 0.1985 - val_box_loss: 0.0020 - val_reg_l2_loss: 0.0638 - val_loss: 0.3641\n",
            "Epoch 47/50\n",
            "16/16 [==============================] - 198s 13s/step - det_loss: 0.3696 - cls_loss: 0.2313 - box_loss: 0.0028 - reg_l2_loss: 0.0638 - loss: 0.4333 - learning_rate: 1.3039e-04 - gradient_norm: 2.3592 - val_det_loss: 0.2999 - val_cls_loss: 0.1983 - val_box_loss: 0.0020 - val_reg_l2_loss: 0.0638 - val_loss: 0.3637\n",
            "Epoch 48/50\n",
            "16/16 [==============================] - 196s 13s/step - det_loss: 0.3804 - cls_loss: 0.2365 - box_loss: 0.0029 - reg_l2_loss: 0.0638 - loss: 0.4442 - learning_rate: 4.8282e-05 - gradient_norm: 2.3597 - val_det_loss: 0.2987 - val_cls_loss: 0.1976 - val_box_loss: 0.0020 - val_reg_l2_loss: 0.0638 - val_loss: 0.3625\n",
            "Epoch 49/50\n",
            "16/16 [==============================] - 193s 13s/step - det_loss: 0.3700 - cls_loss: 0.2295 - box_loss: 0.0028 - reg_l2_loss: 0.0638 - loss: 0.4338 - learning_rate: 7.0684e-06 - gradient_norm: 2.2703 - val_det_loss: 0.2974 - val_cls_loss: 0.1970 - val_box_loss: 0.0020 - val_reg_l2_loss: 0.0638 - val_loss: 0.3612\n",
            "Epoch 50/50\n",
            "16/16 [==============================] - 294s 20s/step - det_loss: 0.3528 - cls_loss: 0.2236 - box_loss: 0.0026 - reg_l2_loss: 0.0638 - loss: 0.4166 - learning_rate: 6.9174e-06 - gradient_norm: 2.1708 - val_det_loss: 0.2967 - val_cls_loss: 0.1966 - val_box_loss: 0.0020 - val_reg_l2_loss: 0.0638 - val_loss: 0.3605\n"
          ]
        }
      ]
    },
    {
      "cell_type": "code",
      "source": [
        "model.evaluate(test_data)"
      ],
      "metadata": {
        "id": "pF46hOeys5V3",
        "outputId": "e01c0091-2b71-479a-cf54-6a651c3fc6db",
        "colab": {
          "base_uri": "https://localhost:8080/"
        }
      },
      "execution_count": 16,
      "outputs": [
        {
          "output_type": "stream",
          "name": "stdout",
          "text": [
            "5/5 [==============================] - 108s 15s/step\n",
            "\n"
          ]
        },
        {
          "output_type": "execute_result",
          "data": {
            "text/plain": [
              "{'AP': 0.32996675,\n",
              " 'AP50': 0.39537552,\n",
              " 'AP75': 0.37406442,\n",
              " 'APs': -1.0,\n",
              " 'APm': -1.0,\n",
              " 'APl': 0.32996675,\n",
              " 'ARmax1': 0.36286908,\n",
              " 'ARmax10': 0.3979749,\n",
              " 'ARmax100': 0.43467903,\n",
              " 'ARs': -1.0,\n",
              " 'ARm': -1.0,\n",
              " 'ARl': 0.43467903,\n",
              " 'AP_/ConstructionLego': 0.0054298947,\n",
              " 'AP_/ConstructionLego2': 0.8842497,\n",
              " 'AP_/ConstructionLego3': 0.10022061}"
            ]
          },
          "metadata": {},
          "execution_count": 16
        }
      ]
    },
    {
      "cell_type": "code",
      "source": [
        "model.export(export_dir='.')"
      ],
      "metadata": {
        "id": "Ddf_f7eHs7F-",
        "outputId": "b5f27de7-0ee6-4b9b-a80f-3bc577112106",
        "colab": {
          "base_uri": "https://localhost:8080/"
        }
      },
      "execution_count": 17,
      "outputs": [
        {
          "output_type": "stream",
          "name": "stderr",
          "text": [
            "WARNING:tensorflow:Skipping full serialization of Keras layer <tensorflow_examples.lite.model_maker.core.task.model_spec.object_detector_spec.ExportModel object at 0x7f1d94023b20>, because it is not built.\n",
            "WARNING:absl:Found untraced functions such as restored_function_body, restored_function_body, restored_function_body, restored_function_body, restored_function_body while saving (showing 5 of 608). These functions will not be directly callable after loading.\n"
          ]
        }
      ]
    }
  ]
}